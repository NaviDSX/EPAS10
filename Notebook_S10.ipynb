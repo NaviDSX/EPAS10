{
 "cells": [
  {
   "cell_type": "code",
   "execution_count": 1,
   "id": "a430a0ee-8d5a-4de6-8622-f7c20d6fb422",
   "metadata": {},
   "outputs": [],
   "source": [
    "from polygon import *\n",
    "from polygon_sequence import *"
   ]
  },
  {
   "cell_type": "markdown",
   "id": "2037d5f6-c113-476c-a28a-decd8b2217a0",
   "metadata": {},
   "source": [
    "## Objective 1 [pts:400]:\n",
    "### Create a Polygon Class:\n",
    "1. where initializer takes in:\n",
    "        1. number of edges/vertices\n",
    "        2. circumradius\n",
    "2. that can provide these properties:\n",
    "        1. num of edges\n",
    "        2. num of vertices\n",
    "        3. interior angle\n",
    "        4. edge length\n",
    "        5. apothem\n",
    "        6. area\n",
    "        7. perimeter\n",
    "3. that has these functionalities:\n",
    "        1. a proper __repr__ function\n",
    "        2. implements equality (==) based on # vertices and circumradius (__eq__)\n",
    "        3. implements > based on number of vertices only (__gt__)"
   ]
  },
  {
   "cell_type": "code",
   "execution_count": 2,
   "id": "41033016-50be-457d-8ae4-2c5e0e57c561",
   "metadata": {},
   "outputs": [
    {
     "name": "stdout",
     "output_type": "stream",
     "text": [
      "\n",
      "    Polygon Class that represents a regular strictly convex polygon.\n",
      "    Input - Takes n=number of edges/vertices and R=circumradius of the polygon (radius of the circle that inscribes the polygon)\n",
      "    Output - Provides the following properties:\n",
      "        count_edges\n",
      "        count_vertices\n",
      "        interior_angle\n",
      "        side_length\n",
      "        apothem\n",
      "        area\n",
      "        perimeter\n",
      "    \n"
     ]
    }
   ],
   "source": [
    "print(Polygon.__doc__)"
   ]
  },
  {
   "cell_type": "code",
   "execution_count": 3,
   "id": "6b956e28-6c8d-490f-b2a5-0efdcea8ede4",
   "metadata": {},
   "outputs": [],
   "source": [
    "p = Polygon(4, 10)"
   ]
  },
  {
   "cell_type": "code",
   "execution_count": 4,
   "id": "5ae32fc8-3e77-4814-abf3-b90bcbaa6183",
   "metadata": {},
   "outputs": [
    {
     "data": {
      "text/plain": [
       "Polygon(edges=4, circumradius=10)"
      ]
     },
     "execution_count": 4,
     "metadata": {},
     "output_type": "execute_result"
    }
   ],
   "source": [
    "p"
   ]
  },
  {
   "cell_type": "code",
   "execution_count": 5,
   "id": "680a538a-a457-4616-87c1-f9391ce276c7",
   "metadata": {},
   "outputs": [
    {
     "name": "stdout",
     "output_type": "stream",
     "text": [
      "Polygon(edges=4, circumradius=10)\n"
     ]
    }
   ],
   "source": [
    "print(p)"
   ]
  },
  {
   "cell_type": "code",
   "execution_count": 6,
   "id": "7268a237-d138-4817-8969-5bb63e9ff637",
   "metadata": {},
   "outputs": [
    {
     "data": {
      "text/plain": [
       "4"
      ]
     },
     "execution_count": 6,
     "metadata": {},
     "output_type": "execute_result"
    }
   ],
   "source": [
    "p.count_edges"
   ]
  },
  {
   "cell_type": "code",
   "execution_count": 7,
   "id": "70234d1b-0918-4ef4-aaab-7db77d91fda7",
   "metadata": {},
   "outputs": [
    {
     "data": {
      "text/plain": [
       "4"
      ]
     },
     "execution_count": 7,
     "metadata": {},
     "output_type": "execute_result"
    }
   ],
   "source": [
    "p.count_vertices"
   ]
  },
  {
   "cell_type": "code",
   "execution_count": 8,
   "id": "f2100588-222d-41cd-ae9e-d44f56357ee4",
   "metadata": {},
   "outputs": [
    {
     "data": {
      "text/plain": [
       "14.142135623730951"
      ]
     },
     "execution_count": 8,
     "metadata": {},
     "output_type": "execute_result"
    }
   ],
   "source": [
    "p.side_length"
   ]
  },
  {
   "cell_type": "code",
   "execution_count": 9,
   "id": "8f1546e0-45fd-4a09-9e67-c3f9c52350a7",
   "metadata": {},
   "outputs": [
    {
     "data": {
      "text/plain": [
       "7.0710678118654755"
      ]
     },
     "execution_count": 9,
     "metadata": {},
     "output_type": "execute_result"
    }
   ],
   "source": [
    "p.apothem"
   ]
  },
  {
   "cell_type": "code",
   "execution_count": 10,
   "id": "f42f7aa3-8654-4c0b-ad55-84c1c70e1803",
   "metadata": {},
   "outputs": [
    {
     "data": {
      "text/plain": [
       "200.00000000000003"
      ]
     },
     "execution_count": 10,
     "metadata": {},
     "output_type": "execute_result"
    }
   ],
   "source": [
    "p.area"
   ]
  },
  {
   "cell_type": "code",
   "execution_count": 11,
   "id": "5cc0fe8a-a8c2-4e2e-8006-7b9aad8ab692",
   "metadata": {},
   "outputs": [
    {
     "data": {
      "text/plain": [
       "56.568542494923804"
      ]
     },
     "execution_count": 11,
     "metadata": {},
     "output_type": "execute_result"
    }
   ],
   "source": [
    "p.perimeter"
   ]
  },
  {
   "cell_type": "code",
   "execution_count": 12,
   "id": "c5e8c8f2-e4fd-48af-8889-dc75c11b6483",
   "metadata": {},
   "outputs": [
    {
     "data": {
      "text/plain": [
       "Polygon(edges=4, circumradius=10)"
      ]
     },
     "execution_count": 12,
     "metadata": {},
     "output_type": "execute_result"
    }
   ],
   "source": [
    "q = Polygon(4, 10)\n",
    "q"
   ]
  },
  {
   "cell_type": "code",
   "execution_count": 13,
   "id": "7878d067-b575-4f73-82d7-c21b9580364e",
   "metadata": {},
   "outputs": [
    {
     "data": {
      "text/plain": [
       "True"
      ]
     },
     "execution_count": 13,
     "metadata": {},
     "output_type": "execute_result"
    }
   ],
   "source": [
    "p == q"
   ]
  },
  {
   "cell_type": "code",
   "execution_count": 14,
   "id": "41c0abe5-d396-49b0-b1d4-735e132670d2",
   "metadata": {},
   "outputs": [
    {
     "data": {
      "text/plain": [
       "False"
      ]
     },
     "execution_count": 14,
     "metadata": {},
     "output_type": "execute_result"
    }
   ],
   "source": [
    "p > q"
   ]
  },
  {
   "cell_type": "markdown",
   "id": "01bbef55-4a86-4564-920e-904892a8d01c",
   "metadata": {},
   "source": [
    "## Objective 2 [pts:600]:\n",
    "### Implement a Custom Polygon sequence type:\n",
    "1.\twhere initializer takes in:\n",
    "        1. number of vertices for largest polygon in the sequence\n",
    "        2. common circumradius for all polygons\n",
    "2.\tthat can provide these properties:\n",
    "        1. max efficiency polygon: returns the Polygon with the highest area:perimeter ratio\n",
    "3.\tthat has these functionalities:\n",
    "        1. functions as a sequence type (__getitem__)\n",
    "        2. supports the len() function (__len__)\n",
    "        3. has a proper representation (__repr__)"
   ]
  },
  {
   "cell_type": "code",
   "execution_count": 15,
   "id": "73d80f39-b1a1-4edf-a21b-f1d802e42331",
   "metadata": {},
   "outputs": [
    {
     "name": "stdout",
     "output_type": "stream",
     "text": [
      "\n",
      "    Returns the max efficiency polygon:which is the Polygon with the highest area:perimeter ratio.\n",
      "    Input - Largest Polygon Vertice Count, Common Circumradius\n",
      "    Method max_efficiency_polygon - Returns Max Efficiency Polygon of Class Polygon\n",
      "    \n"
     ]
    }
   ],
   "source": [
    "print(Polygon_Sequence.__doc__)"
   ]
  },
  {
   "cell_type": "code",
   "execution_count": 16,
   "id": "3ab89163-b035-4e4a-a4c7-bb4213c7f6d9",
   "metadata": {},
   "outputs": [],
   "source": [
    "ps = Polygon_Sequence(25,10)"
   ]
  },
  {
   "cell_type": "code",
   "execution_count": 17,
   "id": "2ea919ef-397b-47e6-adeb-68f15f2ba2eb",
   "metadata": {},
   "outputs": [
    {
     "name": "stdout",
     "output_type": "stream",
     "text": [
      "Polygon_Sequence(Largest Polygon Vertice Count=25, Common Circumradius=10)\n"
     ]
    }
   ],
   "source": [
    "print(ps)"
   ]
  },
  {
   "cell_type": "code",
   "execution_count": 18,
   "id": "d3a0be17-6f68-4723-bcc2-1701e6b9357c",
   "metadata": {},
   "outputs": [
    {
     "data": {
      "text/plain": [
       "Polygon(edges=25, circumradius=10)"
      ]
     },
     "execution_count": 18,
     "metadata": {},
     "output_type": "execute_result"
    }
   ],
   "source": [
    "ps.max_efficiency_polygon"
   ]
  },
  {
   "cell_type": "code",
   "execution_count": 19,
   "id": "46922ad4-478a-4b58-b4a7-af36a2496733",
   "metadata": {},
   "outputs": [
    {
     "data": {
      "text/plain": [
       "Polygon(edges=7, circumradius=10)"
      ]
     },
     "execution_count": 19,
     "metadata": {},
     "output_type": "execute_result"
    }
   ],
   "source": [
    "ps.__getitem__(4)"
   ]
  },
  {
   "cell_type": "code",
   "execution_count": 20,
   "id": "3909524a-6c34-4bac-ab7e-cbe876d739a6",
   "metadata": {},
   "outputs": [
    {
     "data": {
      "text/plain": [
       "23"
      ]
     },
     "execution_count": 20,
     "metadata": {},
     "output_type": "execute_result"
    }
   ],
   "source": [
    "ps.__len__()"
   ]
  },
  {
   "cell_type": "code",
   "execution_count": 21,
   "id": "ab10504d-f082-4ba0-99f3-c8203490e229",
   "metadata": {},
   "outputs": [
    {
     "data": {
      "text/plain": [
       "'Polygon_Sequence(Largest Polygon Vertice Count=25, Common Circumradius=10)'"
      ]
     },
     "execution_count": 21,
     "metadata": {},
     "output_type": "execute_result"
    }
   ],
   "source": [
    "ps.__repr__()"
   ]
  }
 ],
 "metadata": {
  "kernelspec": {
   "display_name": "Python 3",
   "language": "python",
   "name": "python3"
  },
  "language_info": {
   "codemirror_mode": {
    "name": "ipython",
    "version": 3
   },
   "file_extension": ".py",
   "mimetype": "text/x-python",
   "name": "python",
   "nbconvert_exporter": "python",
   "pygments_lexer": "ipython3",
   "version": "3.9.5"
  }
 },
 "nbformat": 4,
 "nbformat_minor": 5
}
